{
  "nbformat": 4,
  "nbformat_minor": 0,
  "metadata": {
    "colab": {
      "name": "plotly",
      "provenance": [],
      "collapsed_sections": [],
      "toc_visible": true
    },
    "kernelspec": {
      "name": "python3",
      "display_name": "Python 3"
    }
  },
  "cells": [
    {
      "cell_type": "code",
      "metadata": {
        "id": "EkRQWqa5EBHW",
        "colab_type": "code",
        "colab": {}
      },
      "source": [
        "!touch corona_india_data.json"
      ],
      "execution_count": 0,
      "outputs": []
    },
    {
      "cell_type": "code",
      "metadata": {
        "id": "KfdI5OL-5Ok3",
        "colab_type": "code",
        "outputId": "e28947c2-586f-461a-f786-426f9cb6a243",
        "colab": {
          "base_uri": "https://localhost:8080/",
          "height": 595
        }
      },
      "source": [
        "import datetime\n",
        "import json\n",
        "import requests\n",
        "import argparse\n",
        "import logging\n",
        "from bs4 import BeautifulSoup\n",
        "from tabulate import tabulate\n",
        "\n",
        "FORMAT = '[%(asctime)-15s] %(message)s'\n",
        "logging.basicConfig(format=FORMAT, level=logging.DEBUG, filename='bot.log', filemode='a')\n",
        "\n",
        "URL = 'https://www.mohfw.gov.in/'\n",
        "SHORT_HEADERS = ['Sno', 'State','In','Fr','Cd','Dt']\n",
        "FILE_NAME = 'corona_india_data.json'\n",
        "extract_contents = lambda row: [x.text.replace('\\n', '') for x in row]\n",
        "\n",
        "\n",
        "def save(x):\n",
        "    with open(FILE_NAME, 'w') as f:\n",
        "        json.dump(x, f)\n",
        "\n",
        "\n",
        "def load():\n",
        "    res = {}\n",
        "    with open(FILE_NAME, 'w+') as f:\n",
        "        res = json.load(f)\n",
        "    return res\n",
        "    \n",
        "\n",
        "\n",
        "interested_states = [\"Andhra Pradesh\",\"Arunachal Pradesh\",\"Assam\",\"Bihar\",\"Chhattisgarh\",\"Goa\",\"Gujarat\",\"Haryana\",\"Himachal Pradesh\",\"Jammu & Kashmir\",\"Jharkhand\",\"Karnataka\",\"Kerala\",\"Madhya Pradesh\",\"Maharashtra\",\"Manipur\",\"Meghalaya\",\"Mizoram\",\"Nagaland\",\"Odisha\",\"Punjab\",\"Rajasthan\",\"Sikkim\",\"Tamil Nadu\",\"Telangana\",\"Tripura\",\"Uttarakhand\",\"Uttar Pradesh\",\"West Bengal\",\"Andaman and Nicobar Islands\",\"Chandigarh\",\"The Government of NCT of Delhi\",\"Dadra and Nagar Haveli\",\"Daman and Diu\",\"Lakshadweep\",\"Puducherry\"]\n",
        "\n",
        "current_time = datetime.datetime.now().strftime('%d/%m/%Y %H:%M')\n",
        "info = []\n",
        "\n",
        "try:\n",
        "    response = requests.get(URL).content\n",
        "    soup = BeautifulSoup(response, 'html.parser')\n",
        "    header = extract_contents(soup.tr.find_all('th'))\n",
        "    print(\"__\")\n",
        "    stats = []\n",
        "    all_rows = soup.find_all('tr')\n",
        "    for row in all_rows:\n",
        "        stat = extract_contents(row.find_all('td'))\n",
        "        print(stat)\n",
        "        if stat:\n",
        "            if len(stat) == 5:\n",
        "                # last row\n",
        "                stat = ['', *stat]\n",
        "                stats.append(stat)\n",
        "            elif any([s.lower() in stat[1].lower() for s in interested_states]):\n",
        "                stats.append(stat)\n",
        "    cur_data = {x[1]: {current_time: x[2:]} for x in stats}\n",
        "except Exception as e:\n",
        "  print(e)"
      ],
      "execution_count": 0,
      "outputs": [
        {
          "output_type": "stream",
          "text": [
            "__\n",
            "[]\n",
            "[]\n",
            "['23-03-2020', 'D.O. Letter from Cabinet Secretary to Chief Secretaries for management and containment of COVID-19 dated 23.03.2020 ']\n",
            "['23-03-2020', 'Advisory on the use of Hydroxy-chloroquin as prophylaxis for SARS-CoV-2 infection ']\n",
            "['22-03-2020', ' KIDS, VAAYU & CORONA : Comic book for children to provide correct information about COVID-19 - Part 2']\n",
            "['22-03-2020', ' D.O. Letter from Cabinet Secretary to Chief Secretaries for management and containment of COVID-19 dated 22.03.2020']\n",
            "['22-03-2020', 'Notification of ICMR guidelines for COVID-19 testing in private laboratories in India ']\n",
            "['21-03-2020', ' Revised Guidelines/Strategy for COVID-19 testing by Indian Council of Medical Research (ICMR)']\n",
            "[]\n",
            "['1', 'Andhra Pradesh', '7', '0', '0', '0']\n",
            "['2', 'Bihar', '2', '0', '0', '1']\n",
            "['3', 'Chhattisgarh', '1', '0', '0', '0']\n",
            "['4', 'Delhi', '28', '1', '5', '1']\n",
            "['5', 'Gujarat', '29', '0', '0', '1']\n",
            "['6', 'Haryana', '12', '14', '11', '0']\n",
            "['7', 'Himachal Pradesh', '3', '0', '0', '1']\n",
            "['8', 'Karnataka', '33', '0', '2', '1']\n",
            "['9', 'Kerala', '60', '7', '3', '0']\n",
            "['10', 'Madhya Pradesh', '6', '0', '0', '0']\n",
            "['11', 'Maharashtra', '71', '3', '0', '2']\n",
            "['12', 'Odisha', '2', '0', '0', '0']\n",
            "['13', 'Puducherry', '1', '0', '0', '0']\n",
            "['14', 'Punjab', '21', '0', '0', '1']\n",
            "['15', 'Rajasthan', '26', '2', '3', '0']\n",
            "['16', 'Tamil Nadu', '7', '2', '1', '0']\n",
            "['17', 'Telengana', '22', '10', '1', '0']\n",
            "['18', 'Chandigarh', '6', '0', '0', '0']\n",
            "['19', 'Jammu and Kashmir', '4', '0', '0', '0']\n",
            "['20', 'Ladakh', '13', '0', '0', '0']\n",
            "['21', 'Uttar Pradesh', '30', '1', '9', '0']\n",
            "['22', 'Uttarakhand', '3', '0', '0', '0']\n",
            "['23', 'West Bengal', '7', '0', '0', '1']\n",
            "['Total number of confirmed cases in India', '394 *', '40 *', '35', '9']\n"
          ],
          "name": "stdout"
        }
      ]
    },
    {
      "cell_type": "code",
      "metadata": {
        "id": "97vaw74-BUWs",
        "colab_type": "code",
        "colab": {}
      },
      "source": [
        "#stats"
      ],
      "execution_count": 0,
      "outputs": []
    },
    {
      "cell_type": "code",
      "metadata": {
        "id": "eY7_mDCPB909",
        "colab_type": "code",
        "colab": {}
      },
      "source": [
        "#cur_data"
      ],
      "execution_count": 0,
      "outputs": []
    },
    {
      "cell_type": "code",
      "metadata": {
        "id": "zdXEYlEmCAmm",
        "colab_type": "code",
        "colab": {}
      },
      "source": [
        "#save(cur_data)"
      ],
      "execution_count": 0,
      "outputs": []
    },
    {
      "cell_type": "code",
      "metadata": {
        "id": "G7_mipVCGWMC",
        "colab_type": "code",
        "colab": {}
      },
      "source": [
        "import pandas as pd"
      ],
      "execution_count": 0,
      "outputs": []
    },
    {
      "cell_type": "code",
      "metadata": {
        "id": "VGxKBy3LGq0e",
        "colab_type": "code",
        "colab": {}
      },
      "source": [
        "col = [\"S_No\"\t,\"NameofState\"\t,\"Total_Confirmed_cases_(Indian_National)\",\"Total_Confirmed_cases_(Foreign_National)\",\"Cured_Discharged/Migrated\",\t\"Death\"]\n",
        "df = pd.DataFrame(stats,columns=col)"
      ],
      "execution_count": 0,
      "outputs": []
    },
    {
      "cell_type": "code",
      "metadata": {
        "id": "DRhVHtJ-GzDW",
        "colab_type": "code",
        "outputId": "56cdb9dc-fd08-489d-82d9-8515697b9dbd",
        "colab": {
          "base_uri": "https://localhost:8080/",
          "height": 204
        }
      },
      "source": [
        "df = df[:-1]\n",
        "df.head()"
      ],
      "execution_count": 0,
      "outputs": [
        {
          "output_type": "execute_result",
          "data": {
            "text/html": [
              "<div>\n",
              "<style scoped>\n",
              "    .dataframe tbody tr th:only-of-type {\n",
              "        vertical-align: middle;\n",
              "    }\n",
              "\n",
              "    .dataframe tbody tr th {\n",
              "        vertical-align: top;\n",
              "    }\n",
              "\n",
              "    .dataframe thead th {\n",
              "        text-align: right;\n",
              "    }\n",
              "</style>\n",
              "<table border=\"1\" class=\"dataframe\">\n",
              "  <thead>\n",
              "    <tr style=\"text-align: right;\">\n",
              "      <th></th>\n",
              "      <th>S_No</th>\n",
              "      <th>NameofState</th>\n",
              "      <th>Total_Confirmed_cases_(Indian_National)</th>\n",
              "      <th>Total_Confirmed_cases_(Foreign_National)</th>\n",
              "      <th>Cured_Discharged/Migrated</th>\n",
              "      <th>Death</th>\n",
              "    </tr>\n",
              "  </thead>\n",
              "  <tbody>\n",
              "    <tr>\n",
              "      <th>0</th>\n",
              "      <td>1</td>\n",
              "      <td>Andhra Pradesh</td>\n",
              "      <td>7</td>\n",
              "      <td>0</td>\n",
              "      <td>0</td>\n",
              "      <td>0</td>\n",
              "    </tr>\n",
              "    <tr>\n",
              "      <th>1</th>\n",
              "      <td>2</td>\n",
              "      <td>Bihar</td>\n",
              "      <td>2</td>\n",
              "      <td>0</td>\n",
              "      <td>0</td>\n",
              "      <td>1</td>\n",
              "    </tr>\n",
              "    <tr>\n",
              "      <th>2</th>\n",
              "      <td>3</td>\n",
              "      <td>Chhattisgarh</td>\n",
              "      <td>1</td>\n",
              "      <td>0</td>\n",
              "      <td>0</td>\n",
              "      <td>0</td>\n",
              "    </tr>\n",
              "    <tr>\n",
              "      <th>3</th>\n",
              "      <td>5</td>\n",
              "      <td>Gujarat</td>\n",
              "      <td>29</td>\n",
              "      <td>0</td>\n",
              "      <td>0</td>\n",
              "      <td>1</td>\n",
              "    </tr>\n",
              "    <tr>\n",
              "      <th>4</th>\n",
              "      <td>6</td>\n",
              "      <td>Haryana</td>\n",
              "      <td>12</td>\n",
              "      <td>14</td>\n",
              "      <td>11</td>\n",
              "      <td>0</td>\n",
              "    </tr>\n",
              "  </tbody>\n",
              "</table>\n",
              "</div>"
            ],
            "text/plain": [
              "  S_No     NameofState  ... Cured_Discharged/Migrated Death\n",
              "0    1  Andhra Pradesh  ...                         0     0\n",
              "1    2           Bihar  ...                         0     1\n",
              "2    3    Chhattisgarh  ...                         0     0\n",
              "3    5         Gujarat  ...                         0     1\n",
              "4    6         Haryana  ...                        11     0\n",
              "\n",
              "[5 rows x 6 columns]"
            ]
          },
          "metadata": {
            "tags": []
          },
          "execution_count": 76
        }
      ]
    },
    {
      "cell_type": "code",
      "metadata": {
        "id": "1uj4jCqlL-4C",
        "colab_type": "code",
        "outputId": "d1721e4e-bd5a-4678-ca19-bd2646e66b39",
        "colab": {
          "base_uri": "https://localhost:8080/",
          "height": 638
        }
      },
      "source": [
        "df.drop([\"S_No\"],inplace=True,axis=1)\n",
        "df"
      ],
      "execution_count": 0,
      "outputs": [
        {
          "output_type": "execute_result",
          "data": {
            "text/html": [
              "<div>\n",
              "<style scoped>\n",
              "    .dataframe tbody tr th:only-of-type {\n",
              "        vertical-align: middle;\n",
              "    }\n",
              "\n",
              "    .dataframe tbody tr th {\n",
              "        vertical-align: top;\n",
              "    }\n",
              "\n",
              "    .dataframe thead th {\n",
              "        text-align: right;\n",
              "    }\n",
              "</style>\n",
              "<table border=\"1\" class=\"dataframe\">\n",
              "  <thead>\n",
              "    <tr style=\"text-align: right;\">\n",
              "      <th></th>\n",
              "      <th>NameofState</th>\n",
              "      <th>Total_Confirmed_cases_(Indian_National)</th>\n",
              "      <th>Total_Confirmed_cases_(Foreign_National)</th>\n",
              "      <th>Cured_Discharged/Migrated</th>\n",
              "      <th>Death</th>\n",
              "    </tr>\n",
              "  </thead>\n",
              "  <tbody>\n",
              "    <tr>\n",
              "      <th>0</th>\n",
              "      <td>Andhra Pradesh</td>\n",
              "      <td>7</td>\n",
              "      <td>0</td>\n",
              "      <td>0</td>\n",
              "      <td>0</td>\n",
              "    </tr>\n",
              "    <tr>\n",
              "      <th>1</th>\n",
              "      <td>Bihar</td>\n",
              "      <td>2</td>\n",
              "      <td>0</td>\n",
              "      <td>0</td>\n",
              "      <td>1</td>\n",
              "    </tr>\n",
              "    <tr>\n",
              "      <th>2</th>\n",
              "      <td>Chhattisgarh</td>\n",
              "      <td>1</td>\n",
              "      <td>0</td>\n",
              "      <td>0</td>\n",
              "      <td>0</td>\n",
              "    </tr>\n",
              "    <tr>\n",
              "      <th>3</th>\n",
              "      <td>Gujarat</td>\n",
              "      <td>29</td>\n",
              "      <td>0</td>\n",
              "      <td>0</td>\n",
              "      <td>1</td>\n",
              "    </tr>\n",
              "    <tr>\n",
              "      <th>4</th>\n",
              "      <td>Haryana</td>\n",
              "      <td>12</td>\n",
              "      <td>14</td>\n",
              "      <td>11</td>\n",
              "      <td>0</td>\n",
              "    </tr>\n",
              "    <tr>\n",
              "      <th>5</th>\n",
              "      <td>Himachal Pradesh</td>\n",
              "      <td>3</td>\n",
              "      <td>0</td>\n",
              "      <td>0</td>\n",
              "      <td>1</td>\n",
              "    </tr>\n",
              "    <tr>\n",
              "      <th>6</th>\n",
              "      <td>Karnataka</td>\n",
              "      <td>33</td>\n",
              "      <td>0</td>\n",
              "      <td>2</td>\n",
              "      <td>1</td>\n",
              "    </tr>\n",
              "    <tr>\n",
              "      <th>7</th>\n",
              "      <td>Kerala</td>\n",
              "      <td>60</td>\n",
              "      <td>7</td>\n",
              "      <td>3</td>\n",
              "      <td>0</td>\n",
              "    </tr>\n",
              "    <tr>\n",
              "      <th>8</th>\n",
              "      <td>Madhya Pradesh</td>\n",
              "      <td>6</td>\n",
              "      <td>0</td>\n",
              "      <td>0</td>\n",
              "      <td>0</td>\n",
              "    </tr>\n",
              "    <tr>\n",
              "      <th>9</th>\n",
              "      <td>Maharashtra</td>\n",
              "      <td>71</td>\n",
              "      <td>3</td>\n",
              "      <td>0</td>\n",
              "      <td>2</td>\n",
              "    </tr>\n",
              "    <tr>\n",
              "      <th>10</th>\n",
              "      <td>Odisha</td>\n",
              "      <td>2</td>\n",
              "      <td>0</td>\n",
              "      <td>0</td>\n",
              "      <td>0</td>\n",
              "    </tr>\n",
              "    <tr>\n",
              "      <th>11</th>\n",
              "      <td>Puducherry</td>\n",
              "      <td>1</td>\n",
              "      <td>0</td>\n",
              "      <td>0</td>\n",
              "      <td>0</td>\n",
              "    </tr>\n",
              "    <tr>\n",
              "      <th>12</th>\n",
              "      <td>Punjab</td>\n",
              "      <td>21</td>\n",
              "      <td>0</td>\n",
              "      <td>0</td>\n",
              "      <td>1</td>\n",
              "    </tr>\n",
              "    <tr>\n",
              "      <th>13</th>\n",
              "      <td>Rajasthan</td>\n",
              "      <td>26</td>\n",
              "      <td>2</td>\n",
              "      <td>3</td>\n",
              "      <td>0</td>\n",
              "    </tr>\n",
              "    <tr>\n",
              "      <th>14</th>\n",
              "      <td>Tamil Nadu</td>\n",
              "      <td>7</td>\n",
              "      <td>2</td>\n",
              "      <td>1</td>\n",
              "      <td>0</td>\n",
              "    </tr>\n",
              "    <tr>\n",
              "      <th>15</th>\n",
              "      <td>Chandigarh</td>\n",
              "      <td>6</td>\n",
              "      <td>0</td>\n",
              "      <td>0</td>\n",
              "      <td>0</td>\n",
              "    </tr>\n",
              "    <tr>\n",
              "      <th>16</th>\n",
              "      <td>Uttar Pradesh</td>\n",
              "      <td>30</td>\n",
              "      <td>1</td>\n",
              "      <td>9</td>\n",
              "      <td>0</td>\n",
              "    </tr>\n",
              "    <tr>\n",
              "      <th>17</th>\n",
              "      <td>Uttarakhand</td>\n",
              "      <td>3</td>\n",
              "      <td>0</td>\n",
              "      <td>0</td>\n",
              "      <td>0</td>\n",
              "    </tr>\n",
              "    <tr>\n",
              "      <th>18</th>\n",
              "      <td>West Bengal</td>\n",
              "      <td>7</td>\n",
              "      <td>0</td>\n",
              "      <td>0</td>\n",
              "      <td>1</td>\n",
              "    </tr>\n",
              "  </tbody>\n",
              "</table>\n",
              "</div>"
            ],
            "text/plain": [
              "         NameofState  ...  Death\n",
              "0     Andhra Pradesh  ...      0\n",
              "1              Bihar  ...      1\n",
              "2       Chhattisgarh  ...      0\n",
              "3            Gujarat  ...      1\n",
              "4            Haryana  ...      0\n",
              "5   Himachal Pradesh  ...      1\n",
              "6          Karnataka  ...      1\n",
              "7             Kerala  ...      0\n",
              "8     Madhya Pradesh  ...      0\n",
              "9        Maharashtra  ...      2\n",
              "10            Odisha  ...      0\n",
              "11        Puducherry  ...      0\n",
              "12            Punjab  ...      1\n",
              "13         Rajasthan  ...      0\n",
              "14        Tamil Nadu  ...      0\n",
              "15        Chandigarh  ...      0\n",
              "16     Uttar Pradesh  ...      0\n",
              "17       Uttarakhand  ...      0\n",
              "18       West Bengal  ...      1\n",
              "\n",
              "[19 rows x 5 columns]"
            ]
          },
          "metadata": {
            "tags": []
          },
          "execution_count": 96
        }
      ]
    },
    {
      "cell_type": "code",
      "metadata": {
        "id": "KfBZLVT8Kn3x",
        "colab_type": "code",
        "colab": {}
      },
      "source": [
        "df[[\"Total_Confirmed_cases_(Indian_National)\",\"Total_Confirmed_cases_(Foreign_National)\",\"Cured_Discharged/Migrated\",\t\"Death\"]] = df[[\"Total_Confirmed_cases_(Indian_National)\",\"Total_Confirmed_cases_(Foreign_National)\",\"Cured_Discharged/Migrated\",\t\"Death\"]].apply(pd.to_numeric)"
      ],
      "execution_count": 0,
      "outputs": []
    },
    {
      "cell_type": "code",
      "metadata": {
        "id": "Kw3WALbsHpoG",
        "colab_type": "code",
        "colab": {}
      },
      "source": [
        "df.to_csv(\"data.csv\",index=False)"
      ],
      "execution_count": 0,
      "outputs": []
    },
    {
      "cell_type": "code",
      "metadata": {
        "id": "DDFkxUgMHwfa",
        "colab_type": "code",
        "colab": {}
      },
      "source": [
        "# importing packages\n",
        "import pandas as pd\n",
        "import numpy as np\n",
        "#from scipy.interpolate import spline\n",
        "from numpy import array\n",
        "import matplotlib as mpl\n",
        "\n",
        "# for plots\n",
        "import matplotlib.pyplot as plt\n",
        "from matplotlib import cm\n",
        "\n",
        "# for date and time processing\n",
        "import datetime\n",
        "\n",
        "# for statistical graphs\n",
        "import seaborn as sns"
      ],
      "execution_count": 0,
      "outputs": []
    },
    {
      "cell_type": "code",
      "metadata": {
        "id": "p87fzR3OLeyK",
        "colab_type": "code",
        "outputId": "03ab885e-65f4-4228-ed46-7dfae4b126b6",
        "colab": {
          "base_uri": "https://localhost:8080/",
          "height": 297
        }
      },
      "source": [
        "df.describe()"
      ],
      "execution_count": 0,
      "outputs": [
        {
          "output_type": "execute_result",
          "data": {
            "text/html": [
              "<div>\n",
              "<style scoped>\n",
              "    .dataframe tbody tr th:only-of-type {\n",
              "        vertical-align: middle;\n",
              "    }\n",
              "\n",
              "    .dataframe tbody tr th {\n",
              "        vertical-align: top;\n",
              "    }\n",
              "\n",
              "    .dataframe thead th {\n",
              "        text-align: right;\n",
              "    }\n",
              "</style>\n",
              "<table border=\"1\" class=\"dataframe\">\n",
              "  <thead>\n",
              "    <tr style=\"text-align: right;\">\n",
              "      <th></th>\n",
              "      <th>Total_Confirmed_cases_(Indian_National)</th>\n",
              "      <th>Total_Confirmed_cases_(Foreign_National)</th>\n",
              "      <th>Cured_Discharged/Migrated</th>\n",
              "      <th>Death</th>\n",
              "    </tr>\n",
              "  </thead>\n",
              "  <tbody>\n",
              "    <tr>\n",
              "      <th>count</th>\n",
              "      <td>19.000000</td>\n",
              "      <td>19.000000</td>\n",
              "      <td>19.000000</td>\n",
              "      <td>19.000000</td>\n",
              "    </tr>\n",
              "    <tr>\n",
              "      <th>mean</th>\n",
              "      <td>17.210526</td>\n",
              "      <td>1.526316</td>\n",
              "      <td>1.526316</td>\n",
              "      <td>0.421053</td>\n",
              "    </tr>\n",
              "    <tr>\n",
              "      <th>std</th>\n",
              "      <td>20.208851</td>\n",
              "      <td>3.485979</td>\n",
              "      <td>3.168744</td>\n",
              "      <td>0.606977</td>\n",
              "    </tr>\n",
              "    <tr>\n",
              "      <th>min</th>\n",
              "      <td>1.000000</td>\n",
              "      <td>0.000000</td>\n",
              "      <td>0.000000</td>\n",
              "      <td>0.000000</td>\n",
              "    </tr>\n",
              "    <tr>\n",
              "      <th>25%</th>\n",
              "      <td>3.000000</td>\n",
              "      <td>0.000000</td>\n",
              "      <td>0.000000</td>\n",
              "      <td>0.000000</td>\n",
              "    </tr>\n",
              "    <tr>\n",
              "      <th>50%</th>\n",
              "      <td>7.000000</td>\n",
              "      <td>0.000000</td>\n",
              "      <td>0.000000</td>\n",
              "      <td>0.000000</td>\n",
              "    </tr>\n",
              "    <tr>\n",
              "      <th>75%</th>\n",
              "      <td>27.500000</td>\n",
              "      <td>1.500000</td>\n",
              "      <td>1.500000</td>\n",
              "      <td>1.000000</td>\n",
              "    </tr>\n",
              "    <tr>\n",
              "      <th>max</th>\n",
              "      <td>71.000000</td>\n",
              "      <td>14.000000</td>\n",
              "      <td>11.000000</td>\n",
              "      <td>2.000000</td>\n",
              "    </tr>\n",
              "  </tbody>\n",
              "</table>\n",
              "</div>"
            ],
            "text/plain": [
              "       Total_Confirmed_cases_(Indian_National)  ...      Death\n",
              "count                                19.000000  ...  19.000000\n",
              "mean                                 17.210526  ...   0.421053\n",
              "std                                  20.208851  ...   0.606977\n",
              "min                                   1.000000  ...   0.000000\n",
              "25%                                   3.000000  ...   0.000000\n",
              "50%                                   7.000000  ...   0.000000\n",
              "75%                                  27.500000  ...   1.000000\n",
              "max                                  71.000000  ...   2.000000\n",
              "\n",
              "[8 rows x 4 columns]"
            ]
          },
          "metadata": {
            "tags": []
          },
          "execution_count": 89
        }
      ]
    },
    {
      "cell_type": "code",
      "metadata": {
        "id": "vLtuT_sKINQI",
        "colab_type": "code",
        "outputId": "4b0ac25b-f1f4-4303-ea00-68ff68e52e49",
        "colab": {
          "base_uri": "https://localhost:8080/",
          "height": 296
        }
      },
      "source": [
        "# A bar chart to show from which states, how many cities are taken for examination.\n",
        "fig = plt.figure(figsize=(20,20))\n",
        "df[[\"NameofState\",\"Total_Confirmed_cases_(Indian_National)\"]].plot(kind=\"barh\", fontsize = 10)\n",
        "plt.grid(b=True, which='both', color='Black')\n",
        "plt.xlabel('No of cities taken for analysis')\n",
        "plt.show ()"
      ],
      "execution_count": 0,
      "outputs": [
        {
          "output_type": "display_data",
          "data": {
            "text/plain": [
              "<Figure size 1440x1440 with 0 Axes>"
            ]
          },
          "metadata": {
            "tags": []
          }
        },
        {
          "output_type": "display_data",
          "data": {
            "image/png": "[encoded data removed]",
            "text/plain": [
              "<Figure size 432x288 with 1 Axes>"
            ]
          },
          "metadata": {
            "tags": []
          }
        }
      ]
    },
    {
      "cell_type": "code",
      "metadata": {
        "id": "-dMfSvGmIUvS",
        "colab_type": "code",
        "outputId": "9ae8f7f8-2dd6-43a0-f133-e831e5d9051e",
        "colab": {
          "base_uri": "https://localhost:8080/",
          "height": 1000
        }
      },
      "source": [
        "sns.set()\n",
        "name = df[\"NameofState\"]\n",
        "count = df[\"Total_Confirmed_cases_(Indian_National)\"]+ df[\"Total_Confirmed_cases_(Foreign_National)\"]\n",
        "fig = plt.figure(figsize=(20,20))\n",
        "plt.title(\"EDA\")\n",
        "plt.barh(name,count,height=0.5,label=\"total\")\n",
        "plt.barh(name,df[\"Cured_Discharged/Migrated\"],height=0.5,label=\"cured\")\n",
        "plt.ylabel(\"State\")\n",
        "plt.xlabel(\"no\")\n",
        "plt.legend()"
      ],
      "execution_count": 0,
      "outputs": [
        {
          "output_type": "execute_result",
          "data": {
            "text/plain": [
              "<matplotlib.legend.Legend at 0x7f3061fa8a90>"
            ]
          },
          "metadata": {
            "tags": []
          },
          "execution_count": 138
        },
        {
          "output_type": "display_data",
          "data": {
            "image/png": "[encoded data removed]",
            "text/plain": [
              "<Figure size 1440x1440 with 1 Axes>"
            ]
          },
          "metadata": {
            "tags": []
          }
        }
      ]
    },
    {
      "cell_type": "code",
      "metadata": {
        "id": "A20Rt4qXNmRv",
        "colab_type": "code",
        "colab": {}
      },
      "source": [
        "df2 = pd.read_csv(\"long.txt\")"
      ],
      "execution_count": 0,
      "outputs": []
    },
    {
      "cell_type": "code",
      "metadata": {
        "id": "rmBU1rCRTvyM",
        "colab_type": "code",
        "colab": {}
      },
      "source": [
        "df2.drop([\"count\"],inplace=True,axis=1)"
      ],
      "execution_count": 0,
      "outputs": []
    },
    {
      "cell_type": "code",
      "metadata": {
        "id": "ihIlZLKmTwqB",
        "colab_type": "code",
        "colab": {}
      },
      "source": [
        "df2.to_csv(\"long.csv\",index=False)"
      ],
      "execution_count": 0,
      "outputs": []
    },
    {
      "cell_type": "code",
      "metadata": {
        "id": "8Zg7Cr4EUr0x",
        "colab_type": "code",
        "colab": {}
      },
      "source": [
        ""
      ],
      "execution_count": 0,
      "outputs": []
    }
  ]
}