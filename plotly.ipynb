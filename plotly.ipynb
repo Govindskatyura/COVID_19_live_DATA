{
  "nbformat": 4,
  "nbformat_minor": 0,
  "metadata": {
    "colab": {
      "name": "plotly",
      "provenance": [],
      "collapsed_sections": [],
      "toc_visible": true,
      "authorship_tag": "ABX9TyPBmNrWek17U3mXJG2Se+kR",
      "include_colab_link": true
    },
    "kernelspec": {
      "name": "python3",
      "display_name": "Python 3"
    }
  },
  "cells": [
    {
      "cell_type": "markdown",
      "metadata": {
        "id": "view-in-github",
        "colab_type": "text"
      },
      "source": [
        "<a href=\"https://colab.research.google.com/github/Govindskatyura/COVID_19_live_DATA/blob/master/plotly.ipynb\" target=\"_parent\"><img src=\"https://colab.research.google.com/assets/colab-badge.svg\" alt=\"Open In Colab\"/></a>"
      ]
    },
    {
      "cell_type": "code",
      "metadata": {
        "id": "EkRQWqa5EBHW",
        "colab_type": "code",
        "colab": {}
      },
      "source": [
        "!touch corona_india_data.json"
      ],
      "execution_count": 0,
      "outputs": []
    },
    {
      "cell_type": "code",
      "metadata": {
        "id": "KfdI5OL-5Ok3",
        "colab_type": "code",
        "outputId": "e28947c2-586f-461a-f786-426f9cb6a243",
        "colab": {
          "base_uri": "https://localhost:8080/",
          "height": 595
        }
      },
      "source": [
        "import datetime\n",
        "import json\n",
        "import requests\n",
        "import argparse\n",
        "import logging\n",
        "from bs4 import BeautifulSoup\n",
        "from tabulate import tabulate\n",
        "\n",
        "FORMAT = '[%(asctime)-15s] %(message)s'\n",
        "logging.basicConfig(format=FORMAT, level=logging.DEBUG, filename='bot.log', filemode='a')\n",
        "\n",
        "URL = 'https://www.mohfw.gov.in/'\n",
        "SHORT_HEADERS = ['Sno', 'State','In','Fr','Cd','Dt']\n",
        "FILE_NAME = 'corona_india_data.json'\n",
        "extract_contents = lambda row: [x.text.replace('\\n', '') for x in row]\n",
        "\n",
        "\n",
        "def save(x):\n",
        "    with open(FILE_NAME, 'w') as f:\n",
        "        json.dump(x, f)\n",
        "\n",
        "\n",
        "def load():\n",
        "    res = {}\n",
        "    with open(FILE_NAME, 'w+') as f:\n",
        "        res = json.load(f)\n",
        "    return res\n",
        "    \n",
        "\n",
        "\n",
        "interested_states = [\"Andhra Pradesh\",\"Arunachal Pradesh\",\"Assam\",\"Bihar\",\"Chhattisgarh\",\"Goa\",\"Gujarat\",\"Haryana\",\"Himachal Pradesh\",\"Jammu & Kashmir\",\"Jharkhand\",\"Karnataka\",\"Kerala\",\"Madhya Pradesh\",\"Maharashtra\",\"Manipur\",\"Meghalaya\",\"Mizoram\",\"Nagaland\",\"Odisha\",\"Punjab\",\"Rajasthan\",\"Sikkim\",\"Tamil Nadu\",\"Telangana\",\"Tripura\",\"Uttarakhand\",\"Uttar Pradesh\",\"West Bengal\",\"Andaman and Nicobar Islands\",\"Chandigarh\",\"The Government of NCT of Delhi\",\"Dadra and Nagar Haveli\",\"Daman and Diu\",\"Lakshadweep\",\"Puducherry\"]\n",
        "\n",
        "current_time = datetime.datetime.now().strftime('%d/%m/%Y %H:%M')\n",
        "info = []\n",
        "\n",
        "try:\n",
        "    response = requests.get(URL).content\n",
        "    soup = BeautifulSoup(response, 'html.parser')\n",
        "    header = extract_contents(soup.tr.find_all('th'))\n",
        "    print(\"__\")\n",
        "    stats = []\n",
        "    all_rows = soup.find_all('tr')\n",
        "    for row in all_rows:\n",
        "        stat = extract_contents(row.find_all('td'))\n",
        "        print(stat)\n",
        "        if stat:\n",
        "            if len(stat) == 5:\n",
        "                # last row\n",
        "                stat = ['', *stat]\n",
        "                stats.append(stat)\n",
        "            elif any([s.lower() in stat[1].lower() for s in interested_states]):\n",
        "                stats.append(stat)\n",
        "    cur_data = {x[1]: {current_time: x[2:]} for x in stats}\n",
        "except Exception as e:\n",
        "  print(e)"
      ],
      "execution_count": 0,
      "outputs": [
        {
          "output_type": "stream",
          "text": [
            "__\n",
            "[]\n",
            "[]\n",
            "['23-03-2020', 'D.O. Letter from Cabinet Secretary to Chief Secretaries for management and containment of COVID-19 dated 23.03.2020 ']\n",
            "['23-03-2020', 'Advisory on the use of Hydroxy-chloroquin as prophylaxis for SARS-CoV-2 infection ']\n",
            "['22-03-2020', ' KIDS, VAAYU & CORONA : Comic book for children to provide correct information about COVID-19 - Part 2']\n",
            "['22-03-2020', ' D.O. Letter from Cabinet Secretary to Chief Secretaries for management and containment of COVID-19 dated 22.03.2020']\n",
            "['22-03-2020', 'Notification of ICMR guidelines for COVID-19 testing in private laboratories in India ']\n",
            "['21-03-2020', ' Revised Guidelines/Strategy for COVID-19 testing by Indian Council of Medical Research (ICMR)']\n",
            "[]\n",
            "['1', 'Andhra Pradesh', '7', '0', '0', '0']\n",
            "['2', 'Bihar', '2', '0', '0', '1']\n",
            "['3', 'Chhattisgarh', '1', '0', '0', '0']\n",
            "['4', 'Delhi', '28', '1', '5', '1']\n",
            "['5', 'Gujarat', '29', '0', '0', '1']\n",
            "['6', 'Haryana', '12', '14', '11', '0']\n",
            "['7', 'Himachal Pradesh', '3', '0', '0', '1']\n",
            "['8', 'Karnataka', '33', '0', '2', '1']\n",
            "['9', 'Kerala', '60', '7', '3', '0']\n",
            "['10', 'Madhya Pradesh', '6', '0', '0', '0']\n",
            "['11', 'Maharashtra', '71', '3', '0', '2']\n",
            "['12', 'Odisha', '2', '0', '0', '0']\n",
            "['13', 'Puducherry', '1', '0', '0', '0']\n",
            "['14', 'Punjab', '21', '0', '0', '1']\n",
            "['15', 'Rajasthan', '26', '2', '3', '0']\n",
            "['16', 'Tamil Nadu', '7', '2', '1', '0']\n",
            "['17', 'Telengana', '22', '10', '1', '0']\n",
            "['18', 'Chandigarh', '6', '0', '0', '0']\n",
            "['19', 'Jammu and Kashmir', '4', '0', '0', '0']\n",
            "['20', 'Ladakh', '13', '0', '0', '0']\n",
            "['21', 'Uttar Pradesh', '30', '1', '9', '0']\n",
            "['22', 'Uttarakhand', '3', '0', '0', '0']\n",
            "['23', 'West Bengal', '7', '0', '0', '1']\n",
            "['Total number of confirmed cases in India', '394 *', '40 *', '35', '9']\n"
          ],
          "name": "stdout"
        }
      ]
    },
    {
      "cell_type": "code",
      "metadata": {
        "id": "97vaw74-BUWs",
        "colab_type": "code",
        "colab": {}
      },
      "source": [
        "#stats"
      ],
      "execution_count": 0,
      "outputs": []
    },
    {
      "cell_type": "code",
      "metadata": {
        "id": "eY7_mDCPB909",
        "colab_type": "code",
        "colab": {}
      },
      "source": [
        "#cur_data"
      ],
      "execution_count": 0,
      "outputs": []
    },
    {
      "cell_type": "code",
      "metadata": {
        "id": "zdXEYlEmCAmm",
        "colab_type": "code",
        "colab": {}
      },
      "source": [
        "#save(cur_data)"
      ],
      "execution_count": 0,
      "outputs": []
    },
    {
      "cell_type": "code",
      "metadata": {
        "id": "G7_mipVCGWMC",
        "colab_type": "code",
        "colab": {}
      },
      "source": [
        "import pandas as pd"
      ],
      "execution_count": 0,
      "outputs": []
    },
    {
      "cell_type": "code",
      "metadata": {
        "id": "VGxKBy3LGq0e",
        "colab_type": "code",
        "colab": {}
      },
      "source": [
        "col = [\"S_No\"\t,\"NameofState\"\t,\"Total_Confirmed_cases_(Indian_National)\",\"Total_Confirmed_cases_(Foreign_National)\",\"Cured_Discharged/Migrated\",\t\"Death\"]\n",
        "df = pd.DataFrame(stats,columns=col)"
      ],
      "execution_count": 0,
      "outputs": []
    },
    {
      "cell_type": "code",
      "metadata": {
        "id": "DRhVHtJ-GzDW",
        "colab_type": "code",
        "outputId": "56cdb9dc-fd08-489d-82d9-8515697b9dbd",
        "colab": {
          "base_uri": "https://localhost:8080/",
          "height": 204
        }
      },
      "source": [
        "df = df[:-1]\n",
        "df.head()"
      ],
      "execution_count": 0,
      "outputs": [
        {
          "output_type": "execute_result",
          "data": {
            "text/html": [
              "<div>\n",
              "<style scoped>\n",
              "    .dataframe tbody tr th:only-of-type {\n",
              "        vertical-align: middle;\n",
              "    }\n",
              "\n",
              "    .dataframe tbody tr th {\n",
              "        vertical-align: top;\n",
              "    }\n",
              "\n",
              "    .dataframe thead th {\n",
              "        text-align: right;\n",
              "    }\n",
              "</style>\n",
              "<table border=\"1\" class=\"dataframe\">\n",
              "  <thead>\n",
              "    <tr style=\"text-align: right;\">\n",
              "      <th></th>\n",
              "      <th>S_No</th>\n",
              "      <th>NameofState</th>\n",
              "      <th>Total_Confirmed_cases_(Indian_National)</th>\n",
              "      <th>Total_Confirmed_cases_(Foreign_National)</th>\n",
              "      <th>Cured_Discharged/Migrated</th>\n",
              "      <th>Death</th>\n",
              "    </tr>\n",
              "  </thead>\n",
              "  <tbody>\n",
              "    <tr>\n",
              "      <th>0</th>\n",
              "      <td>1</td>\n",
              "      <td>Andhra Pradesh</td>\n",
              "      <td>7</td>\n",
              "      <td>0</td>\n",
              "      <td>0</td>\n",
              "      <td>0</td>\n",
              "    </tr>\n",
              "    <tr>\n",
              "      <th>1</th>\n",
              "      <td>2</td>\n",
              "      <td>Bihar</td>\n",
              "      <td>2</td>\n",
              "      <td>0</td>\n",
              "      <td>0</td>\n",
              "      <td>1</td>\n",
              "    </tr>\n",
              "    <tr>\n",
              "      <th>2</th>\n",
              "      <td>3</td>\n",
              "      <td>Chhattisgarh</td>\n",
              "      <td>1</td>\n",
              "      <td>0</td>\n",
              "      <td>0</td>\n",
              "      <td>0</td>\n",
              "    </tr>\n",
              "    <tr>\n",
              "      <th>3</th>\n",
              "      <td>5</td>\n",
              "      <td>Gujarat</td>\n",
              "      <td>29</td>\n",
              "      <td>0</td>\n",
              "      <td>0</td>\n",
              "      <td>1</td>\n",
              "    </tr>\n",
              "    <tr>\n",
              "      <th>4</th>\n",
              "      <td>6</td>\n",
              "      <td>Haryana</td>\n",
              "      <td>12</td>\n",
              "      <td>14</td>\n",
              "      <td>11</td>\n",
              "      <td>0</td>\n",
              "    </tr>\n",
              "  </tbody>\n",
              "</table>\n",
              "</div>"
            ],
            "text/plain": [
              "  S_No     NameofState  ... Cured_Discharged/Migrated Death\n",
              "0    1  Andhra Pradesh  ...                         0     0\n",
              "1    2           Bihar  ...                         0     1\n",
              "2    3    Chhattisgarh  ...                         0     0\n",
              "3    5         Gujarat  ...                         0     1\n",
              "4    6         Haryana  ...                        11     0\n",
              "\n",
              "[5 rows x 6 columns]"
            ]
          },
          "metadata": {
            "tags": []
          },
          "execution_count": 76
        }
      ]
    },
    {
      "cell_type": "code",
      "metadata": {
        "id": "1uj4jCqlL-4C",
        "colab_type": "code",
        "outputId": "d1721e4e-bd5a-4678-ca19-bd2646e66b39",
        "colab": {
          "base_uri": "https://localhost:8080/",
          "height": 638
        }
      },
      "source": [
        "df.drop([\"S_No\"],inplace=True,axis=1)\n",
        "df"
      ],
      "execution_count": 0,
      "outputs": [
        {
          "output_type": "execute_result",
          "data": {
            "text/html": [
              "<div>\n",
              "<style scoped>\n",
              "    .dataframe tbody tr th:only-of-type {\n",
              "        vertical-align: middle;\n",
              "    }\n",
              "\n",
              "    .dataframe tbody tr th {\n",
              "        vertical-align: top;\n",
              "    }\n",
              "\n",
              "    .dataframe thead th {\n",
              "        text-align: right;\n",
              "    }\n",
              "</style>\n",
              "<table border=\"1\" class=\"dataframe\">\n",
              "  <thead>\n",
              "    <tr style=\"text-align: right;\">\n",
              "      <th></th>\n",
              "      <th>NameofState</th>\n",
              "      <th>Total_Confirmed_cases_(Indian_National)</th>\n",
              "      <th>Total_Confirmed_cases_(Foreign_National)</th>\n",
              "      <th>Cured_Discharged/Migrated</th>\n",
              "      <th>Death</th>\n",
              "    </tr>\n",
              "  </thead>\n",
              "  <tbody>\n",
              "    <tr>\n",
              "      <th>0</th>\n",
              "      <td>Andhra Pradesh</td>\n",
              "      <td>7</td>\n",
              "      <td>0</td>\n",
              "      <td>0</td>\n",
              "      <td>0</td>\n",
              "    </tr>\n",
              "    <tr>\n",
              "      <th>1</th>\n",
              "      <td>Bihar</td>\n",
              "      <td>2</td>\n",
              "      <td>0</td>\n",
              "      <td>0</td>\n",
              "      <td>1</td>\n",
              "    </tr>\n",
              "    <tr>\n",
              "      <th>2</th>\n",
              "      <td>Chhattisgarh</td>\n",
              "      <td>1</td>\n",
              "      <td>0</td>\n",
              "      <td>0</td>\n",
              "      <td>0</td>\n",
              "    </tr>\n",
              "    <tr>\n",
              "      <th>3</th>\n",
              "      <td>Gujarat</td>\n",
              "      <td>29</td>\n",
              "      <td>0</td>\n",
              "      <td>0</td>\n",
              "      <td>1</td>\n",
              "    </tr>\n",
              "    <tr>\n",
              "      <th>4</th>\n",
              "      <td>Haryana</td>\n",
              "      <td>12</td>\n",
              "      <td>14</td>\n",
              "      <td>11</td>\n",
              "      <td>0</td>\n",
              "    </tr>\n",
              "    <tr>\n",
              "      <th>5</th>\n",
              "      <td>Himachal Pradesh</td>\n",
              "      <td>3</td>\n",
              "      <td>0</td>\n",
              "      <td>0</td>\n",
              "      <td>1</td>\n",
              "    </tr>\n",
              "    <tr>\n",
              "      <th>6</th>\n",
              "      <td>Karnataka</td>\n",
              "      <td>33</td>\n",
              "      <td>0</td>\n",
              "      <td>2</td>\n",
              "      <td>1</td>\n",
              "    </tr>\n",
              "    <tr>\n",
              "      <th>7</th>\n",
              "      <td>Kerala</td>\n",
              "      <td>60</td>\n",
              "      <td>7</td>\n",
              "      <td>3</td>\n",
              "      <td>0</td>\n",
              "    </tr>\n",
              "    <tr>\n",
              "      <th>8</th>\n",
              "      <td>Madhya Pradesh</td>\n",
              "      <td>6</td>\n",
              "      <td>0</td>\n",
              "      <td>0</td>\n",
              "      <td>0</td>\n",
              "    </tr>\n",
              "    <tr>\n",
              "      <th>9</th>\n",
              "      <td>Maharashtra</td>\n",
              "      <td>71</td>\n",
              "      <td>3</td>\n",
              "      <td>0</td>\n",
              "      <td>2</td>\n",
              "    </tr>\n",
              "    <tr>\n",
              "      <th>10</th>\n",
              "      <td>Odisha</td>\n",
              "      <td>2</td>\n",
              "      <td>0</td>\n",
              "      <td>0</td>\n",
              "      <td>0</td>\n",
              "    </tr>\n",
              "    <tr>\n",
              "      <th>11</th>\n",
              "      <td>Puducherry</td>\n",
              "      <td>1</td>\n",
              "      <td>0</td>\n",
              "      <td>0</td>\n",
              "      <td>0</td>\n",
              "    </tr>\n",
              "    <tr>\n",
              "      <th>12</th>\n",
              "      <td>Punjab</td>\n",
              "      <td>21</td>\n",
              "      <td>0</td>\n",
              "      <td>0</td>\n",
              "      <td>1</td>\n",
              "    </tr>\n",
              "    <tr>\n",
              "      <th>13</th>\n",
              "      <td>Rajasthan</td>\n",
              "      <td>26</td>\n",
              "      <td>2</td>\n",
              "      <td>3</td>\n",
              "      <td>0</td>\n",
              "    </tr>\n",
              "    <tr>\n",
              "      <th>14</th>\n",
              "      <td>Tamil Nadu</td>\n",
              "      <td>7</td>\n",
              "      <td>2</td>\n",
              "      <td>1</td>\n",
              "      <td>0</td>\n",
              "    </tr>\n",
              "    <tr>\n",
              "      <th>15</th>\n",
              "      <td>Chandigarh</td>\n",
              "      <td>6</td>\n",
              "      <td>0</td>\n",
              "      <td>0</td>\n",
              "      <td>0</td>\n",
              "    </tr>\n",
              "    <tr>\n",
              "      <th>16</th>\n",
              "      <td>Uttar Pradesh</td>\n",
              "      <td>30</td>\n",
              "      <td>1</td>\n",
              "      <td>9</td>\n",
              "      <td>0</td>\n",
              "    </tr>\n",
              "    <tr>\n",
              "      <th>17</th>\n",
              "      <td>Uttarakhand</td>\n",
              "      <td>3</td>\n",
              "      <td>0</td>\n",
              "      <td>0</td>\n",
              "      <td>0</td>\n",
              "    </tr>\n",
              "    <tr>\n",
              "      <th>18</th>\n",
              "      <td>West Bengal</td>\n",
              "      <td>7</td>\n",
              "      <td>0</td>\n",
              "      <td>0</td>\n",
              "      <td>1</td>\n",
              "    </tr>\n",
              "  </tbody>\n",
              "</table>\n",
              "</div>"
            ],
            "text/plain": [
              "         NameofState  ...  Death\n",
              "0     Andhra Pradesh  ...      0\n",
              "1              Bihar  ...      1\n",
              "2       Chhattisgarh  ...      0\n",
              "3            Gujarat  ...      1\n",
              "4            Haryana  ...      0\n",
              "5   Himachal Pradesh  ...      1\n",
              "6          Karnataka  ...      1\n",
              "7             Kerala  ...      0\n",
              "8     Madhya Pradesh  ...      0\n",
              "9        Maharashtra  ...      2\n",
              "10            Odisha  ...      0\n",
              "11        Puducherry  ...      0\n",
              "12            Punjab  ...      1\n",
              "13         Rajasthan  ...      0\n",
              "14        Tamil Nadu  ...      0\n",
              "15        Chandigarh  ...      0\n",
              "16     Uttar Pradesh  ...      0\n",
              "17       Uttarakhand  ...      0\n",
              "18       West Bengal  ...      1\n",
              "\n",
              "[19 rows x 5 columns]"
            ]
          },
          "metadata": {
            "tags": []
          },
          "execution_count": 96
        }
      ]
    },
    {
      "cell_type": "code",
      "metadata": {
        "id": "KfBZLVT8Kn3x",
        "colab_type": "code",
        "colab": {}
      },
      "source": [
        "df[[\"Total_Confirmed_cases_(Indian_National)\",\"Total_Confirmed_cases_(Foreign_National)\",\"Cured_Discharged/Migrated\",\t\"Death\"]] = df[[\"Total_Confirmed_cases_(Indian_National)\",\"Total_Confirmed_cases_(Foreign_National)\",\"Cured_Discharged/Migrated\",\t\"Death\"]].apply(pd.to_numeric)"
      ],
      "execution_count": 0,
      "outputs": []
    },
    {
      "cell_type": "code",
      "metadata": {
        "id": "Kw3WALbsHpoG",
        "colab_type": "code",
        "colab": {}
      },
      "source": [
        "df.to_csv(\"data.csv\",index=False)"
      ],
      "execution_count": 0,
      "outputs": []
    },
    {
      "cell_type": "code",
      "metadata": {
        "id": "DDFkxUgMHwfa",
        "colab_type": "code",
        "colab": {}
      },
      "source": [
        "# importing packages\n",
        "import pandas as pd\n",
        "import numpy as np\n",
        "#from scipy.interpolate import spline\n",
        "from numpy import array\n",
        "import matplotlib as mpl\n",
        "\n",
        "# for plots\n",
        "import matplotlib.pyplot as plt\n",
        "from matplotlib import cm\n",
        "\n",
        "# for date and time processing\n",
        "import datetime\n",
        "\n",
        "# for statistical graphs\n",
        "import seaborn as sns"
      ],
      "execution_count": 0,
      "outputs": []
    },
    {
      "cell_type": "code",
      "metadata": {
        "id": "p87fzR3OLeyK",
        "colab_type": "code",
        "outputId": "03ab885e-65f4-4228-ed46-7dfae4b126b6",
        "colab": {
          "base_uri": "https://localhost:8080/",
          "height": 297
        }
      },
      "source": [
        "df.describe()"
      ],
      "execution_count": 0,
      "outputs": [
        {
          "output_type": "execute_result",
          "data": {
            "text/html": [
              "<div>\n",
              "<style scoped>\n",
              "    .dataframe tbody tr th:only-of-type {\n",
              "        vertical-align: middle;\n",
              "    }\n",
              "\n",
              "    .dataframe tbody tr th {\n",
              "        vertical-align: top;\n",
              "    }\n",
              "\n",
              "    .dataframe thead th {\n",
              "        text-align: right;\n",
              "    }\n",
              "</style>\n",
              "<table border=\"1\" class=\"dataframe\">\n",
              "  <thead>\n",
              "    <tr style=\"text-align: right;\">\n",
              "      <th></th>\n",
              "      <th>Total_Confirmed_cases_(Indian_National)</th>\n",
              "      <th>Total_Confirmed_cases_(Foreign_National)</th>\n",
              "      <th>Cured_Discharged/Migrated</th>\n",
              "      <th>Death</th>\n",
              "    </tr>\n",
              "  </thead>\n",
              "  <tbody>\n",
              "    <tr>\n",
              "      <th>count</th>\n",
              "      <td>19.000000</td>\n",
              "      <td>19.000000</td>\n",
              "      <td>19.000000</td>\n",
              "      <td>19.000000</td>\n",
              "    </tr>\n",
              "    <tr>\n",
              "      <th>mean</th>\n",
              "      <td>17.210526</td>\n",
              "      <td>1.526316</td>\n",
              "      <td>1.526316</td>\n",
              "      <td>0.421053</td>\n",
              "    </tr>\n",
              "    <tr>\n",
              "      <th>std</th>\n",
              "      <td>20.208851</td>\n",
              "      <td>3.485979</td>\n",
              "      <td>3.168744</td>\n",
              "      <td>0.606977</td>\n",
              "    </tr>\n",
              "    <tr>\n",
              "      <th>min</th>\n",
              "      <td>1.000000</td>\n",
              "      <td>0.000000</td>\n",
              "      <td>0.000000</td>\n",
              "      <td>0.000000</td>\n",
              "    </tr>\n",
              "    <tr>\n",
              "      <th>25%</th>\n",
              "      <td>3.000000</td>\n",
              "      <td>0.000000</td>\n",
              "      <td>0.000000</td>\n",
              "      <td>0.000000</td>\n",
              "    </tr>\n",
              "    <tr>\n",
              "      <th>50%</th>\n",
              "      <td>7.000000</td>\n",
              "      <td>0.000000</td>\n",
              "      <td>0.000000</td>\n",
              "      <td>0.000000</td>\n",
              "    </tr>\n",
              "    <tr>\n",
              "      <th>75%</th>\n",
              "      <td>27.500000</td>\n",
              "      <td>1.500000</td>\n",
              "      <td>1.500000</td>\n",
              "      <td>1.000000</td>\n",
              "    </tr>\n",
              "    <tr>\n",
              "      <th>max</th>\n",
              "      <td>71.000000</td>\n",
              "      <td>14.000000</td>\n",
              "      <td>11.000000</td>\n",
              "      <td>2.000000</td>\n",
              "    </tr>\n",
              "  </tbody>\n",
              "</table>\n",
              "</div>"
            ],
            "text/plain": [
              "       Total_Confirmed_cases_(Indian_National)  ...      Death\n",
              "count                                19.000000  ...  19.000000\n",
              "mean                                 17.210526  ...   0.421053\n",
              "std                                  20.208851  ...   0.606977\n",
              "min                                   1.000000  ...   0.000000\n",
              "25%                                   3.000000  ...   0.000000\n",
              "50%                                   7.000000  ...   0.000000\n",
              "75%                                  27.500000  ...   1.000000\n",
              "max                                  71.000000  ...   2.000000\n",
              "\n",
              "[8 rows x 4 columns]"
            ]
          },
          "metadata": {
            "tags": []
          },
          "execution_count": 89
        }
      ]
    },
    {
      "cell_type": "code",
      "metadata": {
        "id": "vLtuT_sKINQI",
        "colab_type": "code",
        "outputId": "4b0ac25b-f1f4-4303-ea00-68ff68e52e49",
        "colab": {
          "base_uri": "https://localhost:8080/",
          "height": 296
        }
      },
      "source": [
        "# A bar chart to show from which states, how many cities are taken for examination.\n",
        "fig = plt.figure(figsize=(20,20))\n",
        "df[[\"NameofState\",\"Total_Confirmed_cases_(Indian_National)\"]].plot(kind=\"barh\", fontsize = 10)\n",
        "plt.grid(b=True, which='both', color='Black')\n",
        "plt.xlabel('No of cities taken for analysis')\n",
        "plt.show ()"
      ],
      "execution_count": 0,
      "outputs": [
        {
          "output_type": "display_data",
          "data": {
            "text/plain": [
              "<Figure size 1440x1440 with 0 Axes>"
            ]
          },
          "metadata": {
            "tags": []
          }
        },
        {
          "output_type": "display_data",
          "data": {
            "image/png": "[encoded data removed]",
            "text/plain": [
              "<Figure size 432x288 with 1 Axes>"
            ]
          },
          "metadata": {
            "tags": []
          }
        }
      ]
    },
    {
      "cell_type": "code",
      "metadata": {
        "id": "-dMfSvGmIUvS",
        "colab_type": "code",
        "outputId": "9ae8f7f8-2dd6-43a0-f133-e831e5d9051e",
        "colab": {
          "base_uri": "https://localhost:8080/",
          "height": 1000
        }
      },
      "source": [
        "sns.set()\n",
        "name = df[\"NameofState\"]\n",
        "count = df[\"Total_Confirmed_cases_(Indian_National)\"]+ df[\"Total_Confirmed_cases_(Foreign_National)\"]\n",
        "fig = plt.figure(figsize=(20,20))\n",
        "plt.title(\"EDA\")\n",
        "plt.barh(name,count,height=0.5,label=\"total\")\n",
        "plt.barh(name,df[\"Cured_Discharged/Migrated\"],height=0.5,label=\"cured\")\n",
        "plt.ylabel(\"State\")\n",
        "plt.xlabel(\"no\")\n",
        "plt.legend()"
      ],
      "execution_count": 0,
      "outputs": [
        {
          "output_type": "execute_result",
          "data": {
            "text/plain": [
              "<matplotlib.legend.Legend at 0x7f3061fa8a90>"
            ]
          },
          "metadata": {
            "tags": []
          },
          "execution_count": 138
        },
        {
          "output_type": "display_data",
          "data": {
            "image/png": "[encoded data removed]",
            "text/plain": [
              "<Figure size 1440x1440 with 1 Axes>"
            ]
          },
          "metadata": {
            "tags": []
          }
        }
      ]
    },
    {
      "cell_type": "code",
      "metadata": {
        "id": "A20Rt4qXNmRv",
        "colab_type": "code",
        "colab": {}
      },
      "source": [
        "df2 = pd.read_csv(\"long.txt\")"
      ],
      "execution_count": 0,
      "outputs": []
    },
    {
      "cell_type": "code",
      "metadata": {
        "id": "rmBU1rCRTvyM",
        "colab_type": "code",
        "colab": {}
      },
      "source": [
        "df2.drop([\"count\"],inplace=True,axis=1)"
      ],
      "execution_count": 0,
      "outputs": []
    },
    {
      "cell_type": "code",
      "metadata": {
        "id": "ihIlZLKmTwqB",
        "colab_type": "code",
        "colab": {}
      },
      "source": [
        "df2.to_csv(\"long.csv\",index=False)"
      ],
      "execution_count": 0,
      "outputs": []
    },
    {
      "cell_type": "code",
      "metadata": {
        "id": "h16l8jyZZWly",
        "colab_type": "code",
        "colab": {
          "base_uri": "https://localhost:8080/",
          "height": 989
        },
        "outputId": "5387a5eb-d14e-44ad-acdb-7b62bebc3a24"
      },
      "source": [
        "!apt-get install libgeos-3.5.0\n",
        "!apt-get install libgeos-dev\n",
        "!pip install https://github.com/matplotlib/basemap/archive/master.zip"
      ],
      "execution_count": 154,
      "outputs": [
        {
          "output_type": "stream",
          "text": [
            "Reading package lists... Done\n",
            "Building dependency tree       \n",
            "Reading state information... Done\n",
            "E: Unable to locate package libgeos-3.5.0\n",
            "E: Couldn't find any package by glob 'libgeos-3.5.0'\n",
            "E: Couldn't find any package by regex 'libgeos-3.5.0'\n",
            "Reading package lists... Done\n",
            "Building dependency tree       \n",
            "Reading state information... Done\n",
            "Suggested packages:\n",
            "  libgdal-doc\n",
            "The following NEW packages will be installed:\n",
            "  libgeos-dev\n",
            "0 upgraded, 1 newly installed, 0 to remove and 25 not upgraded.\n",
            "Need to get 73.1 kB of archives.\n",
            "After this operation, 486 kB of additional disk space will be used.\n",
            "Get:1 http://archive.ubuntu.com/ubuntu bionic/universe amd64 libgeos-dev amd64 3.6.2-1build2 [73.1 kB]\n",
            "Fetched 73.1 kB in 0s (147 kB/s)\n",
            "Selecting previously unselected package libgeos-dev.\n",
            "(Reading database ... 133872 files and directories currently installed.)\n",
            "Preparing to unpack .../libgeos-dev_3.6.2-1build2_amd64.deb ...\n",
            "Unpacking libgeos-dev (3.6.2-1build2) ...\n",
            "Setting up libgeos-dev (3.6.2-1build2) ...\n",
            "Processing triggers for man-db (2.8.3-2ubuntu0.1) ...\n",
            "Collecting https://github.com/matplotlib/basemap/archive/master.zip\n",
            "\u001b[?25l  Downloading https://github.com/matplotlib/basemap/archive/master.zip (133.1MB)\n",
            "\u001b[K     |████████████████████████████████| 133.1MB 102kB/s \n",
            "\u001b[?25hRequirement already satisfied: matplotlib!=3.0.1,>=1.0.0 in /usr/local/lib/python3.6/dist-packages (from basemap==1.2.1) (3.2.0)\n",
            "Requirement already satisfied: numpy>=1.2.1 in /usr/local/lib/python3.6/dist-packages (from basemap==1.2.1) (1.18.2)\n",
            "Collecting pyproj>=1.9.3\n",
            "\u001b[?25l  Downloading https://files.pythonhosted.org/packages/ce/37/705ee471f71130d4ceee41bbcb06f3b52175cb89273cbb5755ed5e6374e0/pyproj-2.6.0-cp36-cp36m-manylinux2010_x86_64.whl (10.4MB)\n",
            "\u001b[K     |████████████████████████████████| 10.4MB 2.7MB/s \n",
            "\u001b[?25hCollecting pyshp>=1.2.0\n",
            "\u001b[?25l  Downloading https://files.pythonhosted.org/packages/27/16/3bf15aa864fb77845fab8007eda22c2bd67bd6c1fd13496df452c8c43621/pyshp-2.1.0.tar.gz (215kB)\n",
            "\u001b[K     |████████████████████████████████| 225kB 58.0MB/s \n",
            "\u001b[?25hRequirement already satisfied: six in /usr/local/lib/python3.6/dist-packages (from basemap==1.2.1) (1.12.0)\n",
            "Requirement already satisfied: cycler>=0.10 in /usr/local/lib/python3.6/dist-packages (from matplotlib!=3.0.1,>=1.0.0->basemap==1.2.1) (0.10.0)\n",
            "Requirement already satisfied: pyparsing!=2.0.4,!=2.1.2,!=2.1.6,>=2.0.1 in /usr/local/lib/python3.6/dist-packages (from matplotlib!=3.0.1,>=1.0.0->basemap==1.2.1) (2.4.6)\n",
            "Requirement already satisfied: kiwisolver>=1.0.1 in /usr/local/lib/python3.6/dist-packages (from matplotlib!=3.0.1,>=1.0.0->basemap==1.2.1) (1.1.0)\n",
            "Requirement already satisfied: python-dateutil>=2.1 in /usr/local/lib/python3.6/dist-packages (from matplotlib!=3.0.1,>=1.0.0->basemap==1.2.1) (2.8.1)\n",
            "Requirement already satisfied: setuptools in /usr/local/lib/python3.6/dist-packages (from kiwisolver>=1.0.1->matplotlib!=3.0.1,>=1.0.0->basemap==1.2.1) (46.0.0)\n",
            "Building wheels for collected packages: basemap, pyshp\n",
            "  Building wheel for basemap (setup.py) ... \u001b[?25l\u001b[?25hdone\n",
            "  Created wheel for basemap: filename=basemap-1.2.1-cp36-cp36m-linux_x86_64.whl size=121756024 sha256=ca3c1b323359ca7946d8317d825f155fc5584110f74d7eac70b96a2214fb2ad9\n",
            "  Stored in directory: /tmp/pip-ephem-wheel-cache-3d6ybda3/wheels/98/4a/fc/ce719b75d97e646645c225f3332b1b217536100314922e9572\n",
            "  Building wheel for pyshp (setup.py) ... \u001b[?25l\u001b[?25hdone\n",
            "  Created wheel for pyshp: filename=pyshp-2.1.0-cp36-none-any.whl size=32609 sha256=575655d0a55b5db433faea745811fd3ebc87d3490032b0a39be06a38d4f92166\n",
            "  Stored in directory: /root/.cache/pip/wheels/a6/0c/de/321b5192ad416b328975a2f0385f72c64db4656501eba7cc1a\n",
            "Successfully built basemap pyshp\n",
            "Installing collected packages: pyproj, pyshp, basemap\n",
            "Successfully installed basemap-1.2.1 pyproj-2.6.0 pyshp-2.1.0\n"
          ],
          "name": "stdout"
        },
        {
          "output_type": "display_data",
          "data": {
            "application/vnd.colab-display-data+json": {
              "pip_warning": {
                "packages": [
                  "mpl_toolkits"
                ]
              }
            }
          },
          "metadata": {
            "tags": []
          }
        }
      ]
    },
    {
      "cell_type": "code",
      "metadata": {
        "id": "ZJROq2-8Zcup",
        "colab_type": "code",
        "colab": {
          "base_uri": "https://localhost:8080/",
          "height": 238
        },
        "outputId": "399b4a1a-eeae-40fd-e91f-59a9148e3a4d"
      },
      "source": [
        "!pip install pyproj==1.9.6\n",
        "from mpl_toolkits.basemap import Basemap\n",
        "import matplotlib.pyplot as plt\n",
        "%matplotlib inline"
      ],
      "execution_count": 155,
      "outputs": [
        {
          "output_type": "stream",
          "text": [
            "Collecting pyproj==1.9.6\n",
            "\u001b[?25l  Downloading https://files.pythonhosted.org/packages/26/8c/1da0580f334718e04f8bbf74f0515a7fb8185ff96b2560ce080c11aa145b/pyproj-1.9.6.tar.gz (2.8MB)\n",
            "\u001b[K     |████████████████████████████████| 2.8MB 2.8MB/s \n",
            "\u001b[?25hBuilding wheels for collected packages: pyproj\n",
            "  Building wheel for pyproj (setup.py) ... \u001b[?25l\u001b[?25hdone\n",
            "  Created wheel for pyproj: filename=pyproj-1.9.6-cp36-cp36m-linux_x86_64.whl size=3702107 sha256=192b42adc8addb15cac78d8552e764a56ea3dfec48193d2f5e5a487a36c581f6\n",
            "  Stored in directory: /root/.cache/pip/wheels/02/cd/b1/a2d6430f74c7a778a43d62f78bec109ca69c732dc9b929142a\n",
            "Successfully built pyproj\n",
            "Installing collected packages: pyproj\n",
            "  Found existing installation: pyproj 2.6.0\n",
            "    Uninstalling pyproj-2.6.0:\n",
            "      Successfully uninstalled pyproj-2.6.0\n",
            "Successfully installed pyproj-1.9.6\n"
          ],
          "name": "stdout"
        }
      ]
    },
    {
      "cell_type": "code",
      "metadata": {
        "id": "bcjR8D6tZ37v",
        "colab_type": "code",
        "colab": {
          "base_uri": "https://localhost:8080/",
          "height": 80
        },
        "outputId": "deb38484-7f66-4b48-9242-55ece623a08f"
      },
      "source": [
        "df[df[\"NameofState\"] == \"Tamil Nadu\"]"
      ],
      "execution_count": 165,
      "outputs": [
        {
          "output_type": "execute_result",
          "data": {
            "text/html": [
              "<div>\n",
              "<style scoped>\n",
              "    .dataframe tbody tr th:only-of-type {\n",
              "        vertical-align: middle;\n",
              "    }\n",
              "\n",
              "    .dataframe tbody tr th {\n",
              "        vertical-align: top;\n",
              "    }\n",
              "\n",
              "    .dataframe thead th {\n",
              "        text-align: right;\n",
              "    }\n",
              "</style>\n",
              "<table border=\"1\" class=\"dataframe\">\n",
              "  <thead>\n",
              "    <tr style=\"text-align: right;\">\n",
              "      <th></th>\n",
              "      <th>NameofState</th>\n",
              "      <th>Total_Confirmed_cases_(Indian_National)</th>\n",
              "      <th>Total_Confirmed_cases_(Foreign_National)</th>\n",
              "      <th>Cured_Discharged/Migrated</th>\n",
              "      <th>Death</th>\n",
              "    </tr>\n",
              "  </thead>\n",
              "  <tbody>\n",
              "    <tr>\n",
              "      <th>14</th>\n",
              "      <td>Tamil Nadu</td>\n",
              "      <td>7</td>\n",
              "      <td>2</td>\n",
              "      <td>1</td>\n",
              "      <td>0</td>\n",
              "    </tr>\n",
              "  </tbody>\n",
              "</table>\n",
              "</div>"
            ],
            "text/plain": [
              "   NameofState  ...  Death\n",
              "14  Tamil Nadu  ...      0\n",
              "\n",
              "[1 rows x 5 columns]"
            ]
          },
          "metadata": {
            "tags": []
          },
          "execution_count": 165
        }
      ]
    },
    {
      "cell_type": "code",
      "metadata": {
        "id": "RX4sy3pkZ90z",
        "colab_type": "code",
        "colab": {
          "base_uri": "https://localhost:8080/",
          "height": 204
        },
        "outputId": "1a6cbace-6201-409c-823e-e08b40e6992b"
      },
      "source": [
        "df2.head()"
      ],
      "execution_count": 158,
      "outputs": [
        {
          "output_type": "execute_result",
          "data": {
            "text/html": [
              "<div>\n",
              "<style scoped>\n",
              "    .dataframe tbody tr th:only-of-type {\n",
              "        vertical-align: middle;\n",
              "    }\n",
              "\n",
              "    .dataframe tbody tr th {\n",
              "        vertical-align: top;\n",
              "    }\n",
              "\n",
              "    .dataframe thead th {\n",
              "        text-align: right;\n",
              "    }\n",
              "</style>\n",
              "<table border=\"1\" class=\"dataframe\">\n",
              "  <thead>\n",
              "    <tr style=\"text-align: right;\">\n",
              "      <th></th>\n",
              "      <th>Place Name</th>\n",
              "      <th>Latitude</th>\n",
              "      <th>Longitude</th>\n",
              "    </tr>\n",
              "  </thead>\n",
              "  <tbody>\n",
              "    <tr>\n",
              "      <th>0</th>\n",
              "      <td>Tamil Nadu</td>\n",
              "      <td>11.059821</td>\n",
              "      <td>78.387451</td>\n",
              "    </tr>\n",
              "    <tr>\n",
              "      <th>1</th>\n",
              "      <td>Telangana</td>\n",
              "      <td>17.123184</td>\n",
              "      <td>79.208824</td>\n",
              "    </tr>\n",
              "    <tr>\n",
              "      <th>2</th>\n",
              "      <td>Madhya Pradesh</td>\n",
              "      <td>23.473324</td>\n",
              "      <td>77.947998</td>\n",
              "    </tr>\n",
              "    <tr>\n",
              "      <th>3</th>\n",
              "      <td>Haryana</td>\n",
              "      <td>29.238478</td>\n",
              "      <td>76.431885</td>\n",
              "    </tr>\n",
              "    <tr>\n",
              "      <th>4</th>\n",
              "      <td>Chhattisgarh</td>\n",
              "      <td>21.295132</td>\n",
              "      <td>81.828232</td>\n",
              "    </tr>\n",
              "  </tbody>\n",
              "</table>\n",
              "</div>"
            ],
            "text/plain": [
              "       Place Name   Latitude  Longitude\n",
              "0      Tamil Nadu  11.059821  78.387451\n",
              "1       Telangana  17.123184  79.208824\n",
              "2  Madhya Pradesh  23.473324  77.947998\n",
              "3         Haryana  29.238478  76.431885\n",
              "4    Chhattisgarh  21.295132  81.828232"
            ]
          },
          "metadata": {
            "tags": []
          },
          "execution_count": 158
        }
      ]
    },
    {
      "cell_type": "code",
      "metadata": {
        "id": "f5btr0nGbLSR",
        "colab_type": "code",
        "colab": {}
      },
      "source": [
        "df2.columns = ['NameofState', 'Latitude', 'Longitude']"
      ],
      "execution_count": 0,
      "outputs": []
    },
    {
      "cell_type": "code",
      "metadata": {
        "id": "CAjCtILgagQ3",
        "colab_type": "code",
        "colab": {}
      },
      "source": [
        "final = pd.merge(df, df2, on='NameofState')"
      ],
      "execution_count": 0,
      "outputs": []
    },
    {
      "cell_type": "code",
      "metadata": {
        "id": "8Zg7Cr4EUr0x",
        "colab_type": "code",
        "colab": {
          "base_uri": "https://localhost:8080/",
          "height": 884
        },
        "outputId": "4a21b9d8-8385-4b2e-eef9-c2f2432f78ed"
      },
      "source": [
        "\n",
        "from mpl_toolkits.basemap import Basemap\n",
        "plt.subplots(figsize=(20, 15))\n",
        "map = Basemap(width=1200000,height=900000,projection='lcc',resolution='l',\n",
        "                    llcrnrlon=67,llcrnrlat=5,urcrnrlon=99,urcrnrlat=37,lat_0=28,lon_0=77)\n",
        "\n",
        "map.drawmapboundary ()\n",
        "map.drawcountries ()\n",
        "map.drawcoastlines ()\n",
        "\n",
        "lg=array(final['Longitude'])\n",
        "lt=array(final['Latitude'])\n",
        "pt=array(final[\"Total_Confirmed_cases_(Indian_National)\"]+ final[\"Total_Confirmed_cases_(Foreign_National)\"])\n",
        "nc=array(final['NameofState'])\n",
        "\n",
        "x, y = map(lg, lt)\n",
        "population_sizes = final[\"Total_Confirmed_cases_(Indian_National)\"]+ final[\"Total_Confirmed_cases_(Foreign_National)\"].apply(lambda x: int(x)*100)\n",
        "plt.scatter(x, y, s=population_sizes, marker=\"o\", c=population_sizes, cmap=cm.Dark2, alpha=0.7)\n",
        "\n",
        "\n",
        "for ncs, xpt, ypt in zip(nc, x, y):\n",
        "    plt.text(xpt+60000, ypt+30000, ncs, fontsize=10, fontweight='bold')\n",
        "\n",
        "plt.title('Top 10 Populated Cities in India',fontsize=20)"
      ],
      "execution_count": 183,
      "outputs": [
        {
          "output_type": "execute_result",
          "data": {
            "text/plain": [
              "Text(0.5, 1.0, 'Top 10 Populated Cities in India')"
            ]
          },
          "metadata": {
            "tags": []
          },
          "execution_count": 183
        },
        {
          "output_type": "display_data",
          "data": {
            "image/png": "[encoded data removed]",
            "text/plain": [
              "<Figure size 1440x1080 with 1 Axes>"
            ]
          },
          "metadata": {
            "tags": []
          }
        }
      ]
    },
    {
      "cell_type": "code",
      "metadata": {
        "id": "F4haN0gWcI8D",
        "colab_type": "code",
        "colab": {
          "base_uri": "https://localhost:8080/",
          "height": 323
        },
        "outputId": "32fbdcb6-bf51-4c41-f9d9-4e774cfb8409"
      },
      "source": [
        "final[\"Total_Confirmed_cases_(Foreign_National)\"]"
      ],
      "execution_count": 179,
      "outputs": [
        {
          "output_type": "execute_result",
          "data": {
            "text/plain": [
              "0      0\n",
              "1      0\n",
              "2     14\n",
              "3     14\n",
              "4      0\n",
              "5      0\n",
              "6      0\n",
              "7      7\n",
              "8      0\n",
              "9      3\n",
              "10     3\n",
              "11     0\n",
              "12     2\n",
              "13     2\n",
              "14     2\n",
              "15     1\n",
              "16     0\n",
              "Name: Total_Confirmed_cases_(Foreign_National), dtype: int64"
            ]
          },
          "metadata": {
            "tags": []
          },
          "execution_count": 179
        }
      ]
    },
    {
      "cell_type": "code",
      "metadata": {
        "id": "K6hBfH2NZBYs",
        "colab_type": "code",
        "colab": {
          "base_uri": "https://localhost:8080/",
          "height": 323
        },
        "outputId": "cd006ec6-a29a-4b03-cd5e-fddd71380a0f"
      },
      "source": [
        "final[\"Total_Confirmed_cases_(Indian_National)\"]"
      ],
      "execution_count": 177,
      "outputs": [
        {
          "output_type": "execute_result",
          "data": {
            "text/plain": [
              "0      1\n",
              "1     29\n",
              "2     12\n",
              "3     12\n",
              "4      3\n",
              "5     33\n",
              "6     33\n",
              "7     60\n",
              "8      6\n",
              "9     71\n",
              "10    71\n",
              "11     2\n",
              "12    26\n",
              "13     7\n",
              "14     7\n",
              "15    30\n",
              "16     7\n",
              "Name: Total_Confirmed_cases_(Indian_National), dtype: int64"
            ]
          },
          "metadata": {
            "tags": []
          },
          "execution_count": 177
        }
      ]
    },
    {
      "cell_type": "code",
      "metadata": {
        "id": "vVKBG7aWcAIk",
        "colab_type": "code",
        "colab": {}
      },
      "source": [
        ""
      ],
      "execution_count": 0,
      "outputs": []
    }
  ]
}